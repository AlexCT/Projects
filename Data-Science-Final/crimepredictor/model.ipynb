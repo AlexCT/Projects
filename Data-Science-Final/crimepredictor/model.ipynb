{
 "cells": [
  {
   "cell_type": "code",
   "execution_count": null,
   "metadata": {},
   "outputs": [],
   "source": [
    "# Alex Tresselt\n",
    "# CS 7180\n",
    "# 12/13/18\n",
    "# Crime Prediction Model"
   ]
  },
  {
   "cell_type": "code",
   "execution_count": 1,
   "metadata": {},
   "outputs": [
    {
     "name": "stdout",
     "output_type": "stream",
     "text": [
      "Populating the interactive namespace from numpy and matplotlib\n"
     ]
    }
   ],
   "source": [
    "%pylab inline\n",
    "import pandas as pd\n",
    "import numpy as np\n",
    "\n",
    "from sklearn.externals import joblib\n",
    "from sklearn.model_selection import train_test_split\n",
    "from sklearn.preprocessing import LabelEncoder\n",
    "from sklearn.tree import DecisionTreeClassifier"
   ]
  },
  {
   "cell_type": "code",
   "execution_count": 2,
   "metadata": {},
   "outputs": [],
   "source": [
    "df = pd.read_csv('Call_Data.csv')"
   ]
  },
  {
   "cell_type": "code",
   "execution_count": 3,
   "metadata": {},
   "outputs": [],
   "source": [
    "# Format time columns\n",
    "df['Arrived Time'] = pd.to_datetime(df['Arrived Time'], format=\"%b %d %Y %I:%M:%S:%f%p\")\n",
    "df['Original Time Queued'] = pd.to_datetime(df['Original Time Queued'], format=\"%m/%d/%Y %I:%M:%S %p\")"
   ]
  },
  {
   "cell_type": "code",
   "execution_count": 4,
   "metadata": {},
   "outputs": [],
   "source": [
    "# Trim dataset to events in 2017 (to speed up processing and save space)\n",
    "df = df.drop(df[df['Original Time Queued'] <= '2017-01-01 00:00:00'].index)\n",
    "df = df.drop(df[df['Original Time Queued'] >= '2018-01-01 00:00:00'].index)"
   ]
  },
  {
   "cell_type": "code",
   "execution_count": 5,
   "metadata": {},
   "outputs": [
    {
     "data": {
      "text/html": [
       "<div>\n",
       "<style scoped>\n",
       "    .dataframe tbody tr th:only-of-type {\n",
       "        vertical-align: middle;\n",
       "    }\n",
       "\n",
       "    .dataframe tbody tr th {\n",
       "        vertical-align: top;\n",
       "    }\n",
       "\n",
       "    .dataframe thead th {\n",
       "        text-align: right;\n",
       "    }\n",
       "</style>\n",
       "<table border=\"1\" class=\"dataframe\">\n",
       "  <thead>\n",
       "    <tr style=\"text-align: right;\">\n",
       "      <th></th>\n",
       "      <th>CAD Event Number</th>\n",
       "      <th>Event Clearance Description</th>\n",
       "      <th>Call Type</th>\n",
       "      <th>Priority</th>\n",
       "      <th>Initial Call Type</th>\n",
       "      <th>Final Call Type</th>\n",
       "      <th>Original Time Queued</th>\n",
       "      <th>Arrived Time</th>\n",
       "      <th>Precinct</th>\n",
       "      <th>Sector</th>\n",
       "      <th>Beat</th>\n",
       "    </tr>\n",
       "  </thead>\n",
       "  <tbody>\n",
       "    <tr>\n",
       "      <th>72665</th>\n",
       "      <td>2017000065223</td>\n",
       "      <td>STREET CHECK WRITTEN</td>\n",
       "      <td>ONVIEW</td>\n",
       "      <td>2</td>\n",
       "      <td>TRESPASS</td>\n",
       "      <td>--PROWLER - TRESPASS</td>\n",
       "      <td>2017-02-22 12:28:36</td>\n",
       "      <td>2017-02-22 12:28:36</td>\n",
       "      <td>SOUTHWEST</td>\n",
       "      <td>FRANK</td>\n",
       "      <td>F2</td>\n",
       "    </tr>\n",
       "    <tr>\n",
       "      <th>72894</th>\n",
       "      <td>2017000125726</td>\n",
       "      <td>ASSISTANCE RENDERED</td>\n",
       "      <td>911</td>\n",
       "      <td>2</td>\n",
       "      <td>TRESPASS</td>\n",
       "      <td>--PROWLER - TRESPASS</td>\n",
       "      <td>2017-04-10 19:18:07</td>\n",
       "      <td>2017-04-10 19:55:19</td>\n",
       "      <td>WEST</td>\n",
       "      <td>QUEEN</td>\n",
       "      <td>Q1</td>\n",
       "    </tr>\n",
       "    <tr>\n",
       "      <th>73541</th>\n",
       "      <td>2017000137184</td>\n",
       "      <td>ASSISTANCE RENDERED</td>\n",
       "      <td>911</td>\n",
       "      <td>2</td>\n",
       "      <td>SHOPLIFT - THEFT</td>\n",
       "      <td>--THEFT - SHOPLIFT</td>\n",
       "      <td>2017-04-19 19:45:13</td>\n",
       "      <td>2017-04-19 19:52:33</td>\n",
       "      <td>EAST</td>\n",
       "      <td>CHARLIE</td>\n",
       "      <td>C1</td>\n",
       "    </tr>\n",
       "    <tr>\n",
       "      <th>73777</th>\n",
       "      <td>2017000137185</td>\n",
       "      <td>REPORT WRITTEN (NO ARREST)</td>\n",
       "      <td>911</td>\n",
       "      <td>2</td>\n",
       "      <td>SHOPLIFT - THEFT</td>\n",
       "      <td>--ASSAULTS, OTHER</td>\n",
       "      <td>2017-04-19 19:45:35</td>\n",
       "      <td>2017-04-19 20:21:57</td>\n",
       "      <td>NORTH</td>\n",
       "      <td>JOHN</td>\n",
       "      <td>J2</td>\n",
       "    </tr>\n",
       "    <tr>\n",
       "      <th>74449</th>\n",
       "      <td>2017000319109</td>\n",
       "      <td>ASSISTANCE RENDERED</td>\n",
       "      <td>ONVIEW</td>\n",
       "      <td>2</td>\n",
       "      <td>TRESPASS</td>\n",
       "      <td>--DISTURBANCE - OTHER</td>\n",
       "      <td>2017-08-28 16:44:04</td>\n",
       "      <td>2017-08-28 16:44:04</td>\n",
       "      <td>NORTH</td>\n",
       "      <td>JOHN</td>\n",
       "      <td>J3</td>\n",
       "    </tr>\n",
       "  </tbody>\n",
       "</table>\n",
       "</div>"
      ],
      "text/plain": [
       "       CAD Event Number Event Clearance Description Call Type  Priority  \\\n",
       "72665     2017000065223        STREET CHECK WRITTEN    ONVIEW         2   \n",
       "72894     2017000125726         ASSISTANCE RENDERED       911         2   \n",
       "73541     2017000137184         ASSISTANCE RENDERED       911         2   \n",
       "73777     2017000137185  REPORT WRITTEN (NO ARREST)       911         2   \n",
       "74449     2017000319109         ASSISTANCE RENDERED    ONVIEW         2   \n",
       "\n",
       "      Initial Call Type        Final Call Type Original Time Queued  \\\n",
       "72665          TRESPASS   --PROWLER - TRESPASS  2017-02-22 12:28:36   \n",
       "72894          TRESPASS   --PROWLER - TRESPASS  2017-04-10 19:18:07   \n",
       "73541  SHOPLIFT - THEFT     --THEFT - SHOPLIFT  2017-04-19 19:45:13   \n",
       "73777  SHOPLIFT - THEFT      --ASSAULTS, OTHER  2017-04-19 19:45:35   \n",
       "74449          TRESPASS  --DISTURBANCE - OTHER  2017-08-28 16:44:04   \n",
       "\n",
       "             Arrived Time   Precinct   Sector Beat  \n",
       "72665 2017-02-22 12:28:36  SOUTHWEST    FRANK   F2  \n",
       "72894 2017-04-10 19:55:19       WEST    QUEEN   Q1  \n",
       "73541 2017-04-19 19:52:33       EAST  CHARLIE   C1  \n",
       "73777 2017-04-19 20:21:57      NORTH     JOHN   J2  \n",
       "74449 2017-08-28 16:44:04      NORTH     JOHN   J3  "
      ]
     },
     "execution_count": 5,
     "metadata": {},
     "output_type": "execute_result"
    }
   ],
   "source": [
    "# Trim all calls with a priority greater than 3\n",
    "df = df.drop(df[df['Priority'] >= 4].index)"
   ]
  },
  {
   "cell_type": "code",
   "execution_count": 8,
   "metadata": {},
   "outputs": [],
   "source": [
    "# Create more time columns \n",
    "df['hour'] = df['Original Time Queued'].dt.hour\n",
    "df['day'] = df['Original Time Queued'].dt.weekday\n",
    "df['month'] = df['Original Time Queued'].dt.month"
   ]
  },
  {
   "cell_type": "code",
   "execution_count": 11,
   "metadata": {},
   "outputs": [],
   "source": [
    "# Drop duplicate/unfounded/non-events\n",
    "df.drop(df.loc[df['Event Clearance Description']=='NO POLICE ACTION POSSIBLE OR NECESSARY'].index, inplace=True)\n",
    "df.drop(df.loc[df['Event Clearance Description']=='(NOT CURRENTLY USED) ALARM NO RESPONSE'].index, inplace=True)\n",
    "df.drop(df.loc[df['Event Clearance Description']=='DUPLICATED OR CANCELLED BY RADIO'].index, inplace=True)\n",
    "df.drop(df.loc[df['Event Clearance Description']=='FALSE COMPLAINT/UNFOUNDED'].index, inplace=True)\n",
    "df.drop(df.loc[df['Event Clearance Description']=='NO SUCH ADDRESS OR LOCATION'].index, inplace=True)\n",
    "df.drop(df.loc[df['Event Clearance Description']=='RADIO BROADCAST AND CLEAR'].index, inplace=True)\n",
    "df.drop(df.loc[df['Event Clearance Description']=='RESPONDING UNIT(S) CANCELLED BY RADIO'].index, inplace=True)\n",
    "df.drop(df.loc[df['Event Clearance Description']=='UNABLE TO LOCATE INCIDENT OR COMPLAINANT'].index, inplace=True)"
   ]
  },
  {
   "cell_type": "code",
   "execution_count": 12,
   "metadata": {},
   "outputs": [],
   "source": [
    "# Drop unneeded columns\n",
    "df = df.drop(columns=['CAD Event Number', 'Event Clearance Description', 'Priority', 'Arrived Time', \n",
    "                      'Sector', 'Precinct', 'Original Time Queued', 'Call Type', 'Initial Call Type'])"
   ]
  },
  {
   "cell_type": "code",
   "execution_count": 13,
   "metadata": {},
   "outputs": [
    {
     "data": {
      "text/html": [
       "<div>\n",
       "<style scoped>\n",
       "    .dataframe tbody tr th:only-of-type {\n",
       "        vertical-align: middle;\n",
       "    }\n",
       "\n",
       "    .dataframe tbody tr th {\n",
       "        vertical-align: top;\n",
       "    }\n",
       "\n",
       "    .dataframe thead th {\n",
       "        text-align: right;\n",
       "    }\n",
       "</style>\n",
       "<table border=\"1\" class=\"dataframe\">\n",
       "  <thead>\n",
       "    <tr style=\"text-align: right;\">\n",
       "      <th></th>\n",
       "      <th>Final Call Type</th>\n",
       "      <th>Beat</th>\n",
       "      <th>hour</th>\n",
       "      <th>day</th>\n",
       "      <th>month</th>\n",
       "    </tr>\n",
       "  </thead>\n",
       "  <tbody>\n",
       "    <tr>\n",
       "      <th>72665</th>\n",
       "      <td>--PROWLER - TRESPASS</td>\n",
       "      <td>F2</td>\n",
       "      <td>12</td>\n",
       "      <td>2</td>\n",
       "      <td>2</td>\n",
       "    </tr>\n",
       "    <tr>\n",
       "      <th>72894</th>\n",
       "      <td>--PROWLER - TRESPASS</td>\n",
       "      <td>Q1</td>\n",
       "      <td>19</td>\n",
       "      <td>0</td>\n",
       "      <td>4</td>\n",
       "    </tr>\n",
       "    <tr>\n",
       "      <th>73541</th>\n",
       "      <td>--THEFT - SHOPLIFT</td>\n",
       "      <td>C1</td>\n",
       "      <td>19</td>\n",
       "      <td>2</td>\n",
       "      <td>4</td>\n",
       "    </tr>\n",
       "    <tr>\n",
       "      <th>73777</th>\n",
       "      <td>--ASSAULTS, OTHER</td>\n",
       "      <td>J2</td>\n",
       "      <td>19</td>\n",
       "      <td>2</td>\n",
       "      <td>4</td>\n",
       "    </tr>\n",
       "    <tr>\n",
       "      <th>74449</th>\n",
       "      <td>--DISTURBANCE - OTHER</td>\n",
       "      <td>J3</td>\n",
       "      <td>16</td>\n",
       "      <td>0</td>\n",
       "      <td>8</td>\n",
       "    </tr>\n",
       "  </tbody>\n",
       "</table>\n",
       "</div>"
      ],
      "text/plain": [
       "             Final Call Type Beat  hour  day  month\n",
       "72665   --PROWLER - TRESPASS   F2    12    2      2\n",
       "72894   --PROWLER - TRESPASS   Q1    19    0      4\n",
       "73541     --THEFT - SHOPLIFT   C1    19    2      4\n",
       "73777      --ASSAULTS, OTHER   J2    19    2      4\n",
       "74449  --DISTURBANCE - OTHER   J3    16    0      8"
      ]
     },
     "execution_count": 13,
     "metadata": {},
     "output_type": "execute_result"
    }
   ],
   "source": [
    "df.head()"
   ]
  },
  {
   "cell_type": "code",
   "execution_count": 14,
   "metadata": {},
   "outputs": [
    {
     "data": {
      "text/html": [
       "<div>\n",
       "<style scoped>\n",
       "    .dataframe tbody tr th:only-of-type {\n",
       "        vertical-align: middle;\n",
       "    }\n",
       "\n",
       "    .dataframe tbody tr th {\n",
       "        vertical-align: top;\n",
       "    }\n",
       "\n",
       "    .dataframe thead th {\n",
       "        text-align: right;\n",
       "    }\n",
       "</style>\n",
       "<table border=\"1\" class=\"dataframe\">\n",
       "  <thead>\n",
       "    <tr style=\"text-align: right;\">\n",
       "      <th></th>\n",
       "      <th>Beat</th>\n",
       "      <th>hour</th>\n",
       "      <th>day</th>\n",
       "      <th>month</th>\n",
       "      <th>Crime</th>\n",
       "    </tr>\n",
       "  </thead>\n",
       "  <tbody>\n",
       "    <tr>\n",
       "      <th>72665</th>\n",
       "      <td>F2</td>\n",
       "      <td>12</td>\n",
       "      <td>2</td>\n",
       "      <td>2</td>\n",
       "      <td>105</td>\n",
       "    </tr>\n",
       "    <tr>\n",
       "      <th>72894</th>\n",
       "      <td>Q1</td>\n",
       "      <td>19</td>\n",
       "      <td>0</td>\n",
       "      <td>4</td>\n",
       "      <td>105</td>\n",
       "    </tr>\n",
       "    <tr>\n",
       "      <th>73541</th>\n",
       "      <td>C1</td>\n",
       "      <td>19</td>\n",
       "      <td>2</td>\n",
       "      <td>4</td>\n",
       "      <td>121</td>\n",
       "    </tr>\n",
       "    <tr>\n",
       "      <th>73777</th>\n",
       "      <td>J2</td>\n",
       "      <td>19</td>\n",
       "      <td>2</td>\n",
       "      <td>4</td>\n",
       "      <td>15</td>\n",
       "    </tr>\n",
       "    <tr>\n",
       "      <th>74449</th>\n",
       "      <td>J3</td>\n",
       "      <td>16</td>\n",
       "      <td>0</td>\n",
       "      <td>8</td>\n",
       "      <td>46</td>\n",
       "    </tr>\n",
       "  </tbody>\n",
       "</table>\n",
       "</div>"
      ],
      "text/plain": [
       "      Beat  hour  day  month  Crime\n",
       "72665   F2    12    2      2    105\n",
       "72894   Q1    19    0      4    105\n",
       "73541   C1    19    2      4    121\n",
       "73777   J2    19    2      4     15\n",
       "74449   J3    16    0      8     46"
      ]
     },
     "execution_count": 14,
     "metadata": {},
     "output_type": "execute_result"
    }
   ],
   "source": [
    "# Encode and transform labels for the classifier\n",
    "le = LabelEncoder()\n",
    "le.fit(df['Final Call Type'])\n",
    "df['Crime'] = le.transform(df['Final Call Type'])\n",
    "df = df.drop(columns=['Final Call Type'])\n",
    "df.head()"
   ]
  },
  {
   "cell_type": "code",
   "execution_count": 15,
   "metadata": {},
   "outputs": [],
   "source": [
    "# Encode Beat labels\n",
    "leB = LabelEncoder()\n",
    "leB.fit(df['Beat'])\n",
    "df['Beat'] = leB.transform(df['Beat'])"
   ]
  },
  {
   "cell_type": "code",
   "execution_count": 16,
   "metadata": {},
   "outputs": [],
   "source": [
    "# Train/Test split\n",
    "X = df.iloc[:, :4]  # Beat, hour, day, month\n",
    "y = df.iloc[:, -1]  # Crime\n",
    "X_train, X_test, y_train, y_test = train_test_split(X, y, test_size=0.2)"
   ]
  },
  {
   "cell_type": "code",
   "execution_count": 17,
   "metadata": {},
   "outputs": [
    {
     "data": {
      "text/plain": [
       "DecisionTreeClassifier(class_weight=None, criterion='gini', max_depth=None,\n",
       "            max_features=None, max_leaf_nodes=None,\n",
       "            min_impurity_decrease=0.0, min_impurity_split=None,\n",
       "            min_samples_leaf=1, min_samples_split=2,\n",
       "            min_weight_fraction_leaf=0.0, presort=False, random_state=None,\n",
       "            splitter='best')"
      ]
     },
     "execution_count": 17,
     "metadata": {},
     "output_type": "execute_result"
    }
   ],
   "source": [
    "# Fit model\n",
    "clf_dtc = DecisionTreeClassifier()\n",
    "clf_dtc.fit(X_train, y_train)"
   ]
  },
  {
   "cell_type": "code",
   "execution_count": 18,
   "metadata": {},
   "outputs": [
    {
     "name": "stdout",
     "output_type": "stream",
     "text": [
      "0.07249822717223543\n"
     ]
    }
   ],
   "source": [
    "# Predict\n",
    "y_pred = clf_dtc.predict(X_test)\n",
    "print(np.average(y_test == y_pred))"
   ]
  },
  {
   "cell_type": "code",
   "execution_count": 19,
   "metadata": {},
   "outputs": [
    {
     "name": "stdout",
     "output_type": "stream",
     "text": [
      "['--PERSON - FOUND PERSON']\n",
      "['--PERSON - A.W.O.L.']\n",
      "['--NARCOTICS - NARS REPORT']\n",
      "['--MISCHIEF OR NUISANCE - GENERAL']\n",
      "['--PROWLER - TRESPASS']\n"
     ]
    },
    {
     "name": "stderr",
     "output_type": "stream",
     "text": [
      "P:\\Anaconda\\lib\\site-packages\\sklearn\\preprocessing\\label.py:151: DeprecationWarning: The truth value of an empty array is ambiguous. Returning False, but in future this will result in an error. Use `array.size > 0` to check that an array is not empty.\n",
      "  if diff:\n",
      "P:\\Anaconda\\lib\\site-packages\\sklearn\\preprocessing\\label.py:151: DeprecationWarning: The truth value of an empty array is ambiguous. Returning False, but in future this will result in an error. Use `array.size > 0` to check that an array is not empty.\n",
      "  if diff:\n",
      "P:\\Anaconda\\lib\\site-packages\\sklearn\\preprocessing\\label.py:151: DeprecationWarning: The truth value of an empty array is ambiguous. Returning False, but in future this will result in an error. Use `array.size > 0` to check that an array is not empty.\n",
      "  if diff:\n",
      "P:\\Anaconda\\lib\\site-packages\\sklearn\\preprocessing\\label.py:151: DeprecationWarning: The truth value of an empty array is ambiguous. Returning False, but in future this will result in an error. Use `array.size > 0` to check that an array is not empty.\n",
      "  if diff:\n",
      "P:\\Anaconda\\lib\\site-packages\\sklearn\\preprocessing\\label.py:151: DeprecationWarning: The truth value of an empty array is ambiguous. Returning False, but in future this will result in an error. Use `array.size > 0` to check that an array is not empty.\n",
      "  if diff:\n"
     ]
    }
   ],
   "source": [
    "# Predict Probabilities\n",
    "probs = clf_dtc.predict_proba([[1,12,2,2]])\n",
    "# Get top 5\n",
    "p = np.argsort(probs, axis=1)[:,-5:]\n",
    "prob = p[0]\n",
    "prob\n",
    "# Transform them back to crime labels\n",
    "for p in prob:\n",
    "    print(str(le.inverse_transform([p])))"
   ]
  },
  {
   "cell_type": "code",
   "execution_count": 20,
   "metadata": {},
   "outputs": [
    {
     "data": {
      "text/plain": [
       "['model/DTclassifier.joblib']"
      ]
     },
     "execution_count": 20,
     "metadata": {},
     "output_type": "execute_result"
    }
   ],
   "source": [
    "# Export classifier\n",
    "joblib.dump(clf_dtc, 'model/DTclassifier.joblib')"
   ]
  },
  {
   "cell_type": "code",
   "execution_count": 23,
   "metadata": {},
   "outputs": [
    {
     "data": {
      "text/plain": [
       "['model/le.joblib']"
      ]
     },
     "execution_count": 23,
     "metadata": {},
     "output_type": "execute_result"
    }
   ],
   "source": [
    "# Export labels\n",
    "joblib.dump(le, 'model/le.joblib')"
   ]
  },
  {
   "cell_type": "code",
   "execution_count": null,
   "metadata": {},
   "outputs": [],
   "source": []
  }
 ],
 "metadata": {
  "kernelspec": {
   "display_name": "Python 3",
   "language": "python",
   "name": "python3"
  },
  "language_info": {
   "codemirror_mode": {
    "name": "ipython",
    "version": 3
   },
   "file_extension": ".py",
   "mimetype": "text/x-python",
   "name": "python",
   "nbconvert_exporter": "python",
   "pygments_lexer": "ipython3",
   "version": "3.6.4"
  }
 },
 "nbformat": 4,
 "nbformat_minor": 2
}
